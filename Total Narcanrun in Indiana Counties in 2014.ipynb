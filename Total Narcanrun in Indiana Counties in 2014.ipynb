{
 "cells": [
  {
   "cell_type": "code",
   "execution_count": 1,
   "metadata": {
    "collapsed": true
   },
   "outputs": [],
   "source": [
    "import plotly\n",
    "plotly.tools.set_credentials_file(username='sudinivamshi', api_key='SFcu47rBiSpgPoLuzgnr')"
   ]
  },
  {
   "cell_type": "code",
   "execution_count": 6,
   "metadata": {},
   "outputs": [
    {
     "data": {
      "text/html": [
       "<iframe id=\"igraph\" scrolling=\"no\" style=\"border:none;\" seamless=\"seamless\" src=\"https://plot.ly/~sudinivamshi/2.embed\" height=\"450px\" width=\"900px\"></iframe>"
      ],
      "text/plain": [
       "<plotly.tools.PlotlyDisplay object>"
      ]
     },
     "execution_count": 6,
     "metadata": {},
     "output_type": "execute_result"
    }
   ],
   "source": [
    "import plotly.plotly as py\n",
    "import plotly.figure_factory as ff\n",
    "import numpy as np\n",
    "import pandas as pd\n",
    "import MySQLdb\n",
    "conn = MySQLdb.connect(host=\"localhost\", user=\"i501fa18_group7\", passwd=\"rEm9z3dRGW11\", db=\"i501fa18_group7\")\n",
    "cursor = conn.cursor()\n",
    "str1 = \"select INC_COUNTYFIPS, count(INC_INCIDENTID) as Numn_of_Narcanrun, INC_COUNTY from i501fa18_group7.emergency_medical_service_runs_2017 Where NARCANRUN = \\'Y\\' and INC_STATE = \\'IN\\' group by INC_COUNTYFIPS, INC_COUNTY\"\n",
    "cursor.execute(str1);\n",
    "rows = cursor.fetchall() \n",
    "county = []\n",
    "narc_calls = []\n",
    "for i in rows:\n",
    "    county.append(int(str('18')+str('{:03d}'.format(int(i[0])))))\n",
    "    narc_calls.append(i[1])\n",
    "my_data = pd.DataFrame(\n",
    "    {'County': county,\n",
    "     'Narc_Calls': narc_calls\n",
    "    })\n",
    "\n",
    "values = my_data['Narc_Calls'].tolist()\n",
    "fips = my_data['County'].tolist()\n",
    "endpts = list(np.mgrid[min(values):max(values):5j])\n",
    "colorscale = [\"#fef0d9\",\"#fdd49e\",\"#fdbb84\",\"#fc8d59\",\"#e34a33\",\"#b30000\"]\n",
    "fig = ff.create_choropleth(\n",
    "    fips=fips, values=values, scope=['Indiana'], show_state_data=True,\n",
    "    colorscale=colorscale, binning_endpoints=endpts, round_legend_values=True,\n",
    "    plot_bgcolor='rgb(255,255,255)',\n",
    "    paper_bgcolor='rgb(255,255,255)',\n",
    "    legend_title='Narcan Run by County',\n",
    "    title='Narcan Run in Indiana by Counties, 2017',\n",
    "    county_outline={'color': 'rgb(0,0,0)', 'width': 0.5},\n",
    "    exponent_format=True,\n",
    ")\n",
    "py.iplot(fig, filename='choropleth_indiana')"
   ]
  },
  {
   "cell_type": "code",
   "execution_count": null,
   "metadata": {
    "collapsed": true
   },
   "outputs": [],
   "source": []
  }
 ],
 "metadata": {
  "kernelspec": {
   "display_name": "Python 3",
   "language": "python",
   "name": "python3"
  },
  "language_info": {
   "codemirror_mode": {
    "name": "ipython",
    "version": 3
   },
   "file_extension": ".py",
   "mimetype": "text/x-python",
   "name": "python",
   "nbconvert_exporter": "python",
   "pygments_lexer": "ipython3",
   "version": "3.6.4"
  }
 },
 "nbformat": 4,
 "nbformat_minor": 2
}
